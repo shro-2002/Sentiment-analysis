{
  "cells": [
    {
      "cell_type": "markdown",
      "metadata": {
        "id": "_qe81QtxY4Fh"
      },
      "source": [
        "## DATA ORGANIZATION AND CLEANING"
      ]
    },
    {
      "cell_type": "code",
      "source": [
        "!pip install clean_text"
      ],
      "metadata": {
        "colab": {
          "base_uri": "https://localhost:8080/"
        },
        "id": "qEHWdD-cZhkB",
        "outputId": "82249842-993a-4df9-b3e9-e284a997e476"
      },
      "execution_count": null,
      "outputs": [
        {
          "output_type": "stream",
          "name": "stdout",
          "text": [
            "Looking in indexes: https://pypi.org/simple, https://us-python.pkg.dev/colab-wheels/public/simple/\n",
            "Requirement already satisfied: clean_text in /usr/local/lib/python3.8/dist-packages (0.6.0)\n",
            "Requirement already satisfied: ftfy<7.0,>=6.0 in /usr/local/lib/python3.8/dist-packages (from clean_text) (6.1.1)\n",
            "Requirement already satisfied: emoji<2.0.0,>=1.0.0 in /usr/local/lib/python3.8/dist-packages (from clean_text) (1.7.0)\n",
            "Requirement already satisfied: wcwidth>=0.2.5 in /usr/local/lib/python3.8/dist-packages (from ftfy<7.0,>=6.0->clean_text) (0.2.5)\n"
          ]
        }
      ]
    },
    {
      "cell_type": "code",
      "execution_count": null,
      "metadata": {
        "colab": {
          "base_uri": "https://localhost:8080/"
        },
        "id": "SaeoB92PY4Fm",
        "outputId": "8a6484fc-492d-4b90-928c-99727368b651"
      },
      "outputs": [
        {
          "output_type": "stream",
          "name": "stdout",
          "text": [
            "\u001b[38;5;2m✔ Download and installation successful\u001b[0m\n",
            "You can now load the package via spacy.load('en_core_web_sm')\n"
          ]
        },
        {
          "output_type": "stream",
          "name": "stderr",
          "text": [
            "/usr/local/lib/python3.8/dist-packages/IPython/core/interactiveshell.py:3326: FutureWarning: The error_bad_lines argument has been deprecated and will be removed in a future version.\n",
            "\n",
            "\n",
            "  exec(code_obj, self.user_global_ns, self.user_ns)\n",
            "Skipping line 547914: unexpected end of data\n"
          ]
        }
      ],
      "source": [
        "import pandas as pd \n",
        "import re\n",
        "import string \n",
        "\n",
        "# for removing emojis\n",
        "from cleantext import clean\n",
        "\n",
        "# for removing stopwords\n",
        "import gensim\n",
        "\n",
        "# for parallelization \n",
        "from joblib import Parallel, delayed\n",
        "\n",
        "# for lemmatization\n",
        "import spacy\n",
        "from spacy.cli.download import download\n",
        "download(model=\"en_core_web_sm\")\n",
        "nlp = spacy.load('en_core_web_sm', disable=['parser', 'ner'])\n",
        "\n",
        "# for feature extraction \n",
        "from sklearn.model_selection import train_test_split\n",
        "from sklearn.feature_extraction.text import TfidfVectorizer\n",
        "\n",
        "# for plotting \n",
        "\n",
        "\n",
        "DATASET_COLUMNS=['target','ids','date','flag','user','text']\n",
        "DATASET_ENCODING = \"ISO-8859-1\"\n",
        "dataset = pd.read_csv('tweets.csv', encoding=DATASET_ENCODING, names=DATASET_COLUMNS, engine='python',error_bad_lines=False)"
      ]
    },
    {
      "cell_type": "code",
      "source": [
        "dataset = dataset.sample(frac = 1)\n",
        "dataset\n"
      ],
      "metadata": {
        "colab": {
          "base_uri": "https://localhost:8080/",
          "height": 424
        },
        "id": "3YucfE-PNita",
        "outputId": "6d4ffd34-4e22-4169-8e0b-9386a50d2a90"
      },
      "execution_count": null,
      "outputs": [
        {
          "output_type": "execute_result",
          "data": {
            "text/plain": [
              "        target         ids                          date      flag  \\\n",
              "8957         0  1548550521  Fri Apr 17 21:16:04 PDT 2009  NO_QUERY   \n",
              "30605        0  1563808957  Mon Apr 20 00:21:51 PDT 2009  NO_QUERY   \n",
              "282121       0  1992529660  Mon Jun 01 08:54:08 PDT 2009  NO_QUERY   \n",
              "421441       0  2062420893  Sat Jun 06 23:11:00 PDT 2009  NO_QUERY   \n",
              "165402       0  1960812607  Fri May 29 08:32:35 PDT 2009  NO_QUERY   \n",
              "...        ...         ...                           ...       ...   \n",
              "23180        0  1557662675  Sun Apr 19 05:23:19 PDT 2009  NO_QUERY   \n",
              "31321        0  1563989480  Mon Apr 20 01:12:43 PDT 2009  NO_QUERY   \n",
              "334716       0  2013637772  Tue Jun 02 23:10:33 PDT 2009  NO_QUERY   \n",
              "356589       0  2044323696  Fri Jun 05 09:11:28 PDT 2009  NO_QUERY   \n",
              "81635        0  1752788241  Sat May 09 22:59:44 PDT 2009  NO_QUERY   \n",
              "\n",
              "                   user                                               text  \n",
              "8957          Sarah5305  im lonely  keep me company! 22 female, Fort My...  \n",
              "30605            liz_23                               i still dont get it   \n",
              "282121     baileydomino      @ReBeLR  A bored out weekend  Yours was nice?  \n",
              "421441  ashley_outbreak                           why'd i ever let him go?  \n",
              "165402  textualoffender  @ekalavyab dammit i had the passes but i am st...  \n",
              "...                 ...                                                ...  \n",
              "23180      alibalibee87  I can't believe Im stuck in work on another lo...  \n",
              "31321       Debbie_Love  @xo_nathalieee Haha sorry it took me so long t...  \n",
              "334716        cavorting  @Fanny_Ingabout morning sweets, I'm in head of...  \n",
              "356589       tvgenius05                                  So Totally Bored   \n",
              "81635      omgstephanie  @mikeinbrooklyn I should be hanging out with y...  \n",
              "\n",
              "[547913 rows x 6 columns]"
            ],
            "text/html": [
              "\n",
              "  <div id=\"df-a90b5f83-d698-49de-9c3e-5b7fecaf13f6\">\n",
              "    <div class=\"colab-df-container\">\n",
              "      <div>\n",
              "<style scoped>\n",
              "    .dataframe tbody tr th:only-of-type {\n",
              "        vertical-align: middle;\n",
              "    }\n",
              "\n",
              "    .dataframe tbody tr th {\n",
              "        vertical-align: top;\n",
              "    }\n",
              "\n",
              "    .dataframe thead th {\n",
              "        text-align: right;\n",
              "    }\n",
              "</style>\n",
              "<table border=\"1\" class=\"dataframe\">\n",
              "  <thead>\n",
              "    <tr style=\"text-align: right;\">\n",
              "      <th></th>\n",
              "      <th>target</th>\n",
              "      <th>ids</th>\n",
              "      <th>date</th>\n",
              "      <th>flag</th>\n",
              "      <th>user</th>\n",
              "      <th>text</th>\n",
              "    </tr>\n",
              "  </thead>\n",
              "  <tbody>\n",
              "    <tr>\n",
              "      <th>8957</th>\n",
              "      <td>0</td>\n",
              "      <td>1548550521</td>\n",
              "      <td>Fri Apr 17 21:16:04 PDT 2009</td>\n",
              "      <td>NO_QUERY</td>\n",
              "      <td>Sarah5305</td>\n",
              "      <td>im lonely  keep me company! 22 female, Fort My...</td>\n",
              "    </tr>\n",
              "    <tr>\n",
              "      <th>30605</th>\n",
              "      <td>0</td>\n",
              "      <td>1563808957</td>\n",
              "      <td>Mon Apr 20 00:21:51 PDT 2009</td>\n",
              "      <td>NO_QUERY</td>\n",
              "      <td>liz_23</td>\n",
              "      <td>i still dont get it</td>\n",
              "    </tr>\n",
              "    <tr>\n",
              "      <th>282121</th>\n",
              "      <td>0</td>\n",
              "      <td>1992529660</td>\n",
              "      <td>Mon Jun 01 08:54:08 PDT 2009</td>\n",
              "      <td>NO_QUERY</td>\n",
              "      <td>baileydomino</td>\n",
              "      <td>@ReBeLR  A bored out weekend  Yours was nice?</td>\n",
              "    </tr>\n",
              "    <tr>\n",
              "      <th>421441</th>\n",
              "      <td>0</td>\n",
              "      <td>2062420893</td>\n",
              "      <td>Sat Jun 06 23:11:00 PDT 2009</td>\n",
              "      <td>NO_QUERY</td>\n",
              "      <td>ashley_outbreak</td>\n",
              "      <td>why'd i ever let him go?</td>\n",
              "    </tr>\n",
              "    <tr>\n",
              "      <th>165402</th>\n",
              "      <td>0</td>\n",
              "      <td>1960812607</td>\n",
              "      <td>Fri May 29 08:32:35 PDT 2009</td>\n",
              "      <td>NO_QUERY</td>\n",
              "      <td>textualoffender</td>\n",
              "      <td>@ekalavyab dammit i had the passes but i am st...</td>\n",
              "    </tr>\n",
              "    <tr>\n",
              "      <th>...</th>\n",
              "      <td>...</td>\n",
              "      <td>...</td>\n",
              "      <td>...</td>\n",
              "      <td>...</td>\n",
              "      <td>...</td>\n",
              "      <td>...</td>\n",
              "    </tr>\n",
              "    <tr>\n",
              "      <th>23180</th>\n",
              "      <td>0</td>\n",
              "      <td>1557662675</td>\n",
              "      <td>Sun Apr 19 05:23:19 PDT 2009</td>\n",
              "      <td>NO_QUERY</td>\n",
              "      <td>alibalibee87</td>\n",
              "      <td>I can't believe Im stuck in work on another lo...</td>\n",
              "    </tr>\n",
              "    <tr>\n",
              "      <th>31321</th>\n",
              "      <td>0</td>\n",
              "      <td>1563989480</td>\n",
              "      <td>Mon Apr 20 01:12:43 PDT 2009</td>\n",
              "      <td>NO_QUERY</td>\n",
              "      <td>Debbie_Love</td>\n",
              "      <td>@xo_nathalieee Haha sorry it took me so long t...</td>\n",
              "    </tr>\n",
              "    <tr>\n",
              "      <th>334716</th>\n",
              "      <td>0</td>\n",
              "      <td>2013637772</td>\n",
              "      <td>Tue Jun 02 23:10:33 PDT 2009</td>\n",
              "      <td>NO_QUERY</td>\n",
              "      <td>cavorting</td>\n",
              "      <td>@Fanny_Ingabout morning sweets, I'm in head of...</td>\n",
              "    </tr>\n",
              "    <tr>\n",
              "      <th>356589</th>\n",
              "      <td>0</td>\n",
              "      <td>2044323696</td>\n",
              "      <td>Fri Jun 05 09:11:28 PDT 2009</td>\n",
              "      <td>NO_QUERY</td>\n",
              "      <td>tvgenius05</td>\n",
              "      <td>So Totally Bored</td>\n",
              "    </tr>\n",
              "    <tr>\n",
              "      <th>81635</th>\n",
              "      <td>0</td>\n",
              "      <td>1752788241</td>\n",
              "      <td>Sat May 09 22:59:44 PDT 2009</td>\n",
              "      <td>NO_QUERY</td>\n",
              "      <td>omgstephanie</td>\n",
              "      <td>@mikeinbrooklyn I should be hanging out with y...</td>\n",
              "    </tr>\n",
              "  </tbody>\n",
              "</table>\n",
              "<p>547913 rows × 6 columns</p>\n",
              "</div>\n",
              "      <button class=\"colab-df-convert\" onclick=\"convertToInteractive('df-a90b5f83-d698-49de-9c3e-5b7fecaf13f6')\"\n",
              "              title=\"Convert this dataframe to an interactive table.\"\n",
              "              style=\"display:none;\">\n",
              "        \n",
              "  <svg xmlns=\"http://www.w3.org/2000/svg\" height=\"24px\"viewBox=\"0 0 24 24\"\n",
              "       width=\"24px\">\n",
              "    <path d=\"M0 0h24v24H0V0z\" fill=\"none\"/>\n",
              "    <path d=\"M18.56 5.44l.94 2.06.94-2.06 2.06-.94-2.06-.94-.94-2.06-.94 2.06-2.06.94zm-11 1L8.5 8.5l.94-2.06 2.06-.94-2.06-.94L8.5 2.5l-.94 2.06-2.06.94zm10 10l.94 2.06.94-2.06 2.06-.94-2.06-.94-.94-2.06-.94 2.06-2.06.94z\"/><path d=\"M17.41 7.96l-1.37-1.37c-.4-.4-.92-.59-1.43-.59-.52 0-1.04.2-1.43.59L10.3 9.45l-7.72 7.72c-.78.78-.78 2.05 0 2.83L4 21.41c.39.39.9.59 1.41.59.51 0 1.02-.2 1.41-.59l7.78-7.78 2.81-2.81c.8-.78.8-2.07 0-2.86zM5.41 20L4 18.59l7.72-7.72 1.47 1.35L5.41 20z\"/>\n",
              "  </svg>\n",
              "      </button>\n",
              "      \n",
              "  <style>\n",
              "    .colab-df-container {\n",
              "      display:flex;\n",
              "      flex-wrap:wrap;\n",
              "      gap: 12px;\n",
              "    }\n",
              "\n",
              "    .colab-df-convert {\n",
              "      background-color: #E8F0FE;\n",
              "      border: none;\n",
              "      border-radius: 50%;\n",
              "      cursor: pointer;\n",
              "      display: none;\n",
              "      fill: #1967D2;\n",
              "      height: 32px;\n",
              "      padding: 0 0 0 0;\n",
              "      width: 32px;\n",
              "    }\n",
              "\n",
              "    .colab-df-convert:hover {\n",
              "      background-color: #E2EBFA;\n",
              "      box-shadow: 0px 1px 2px rgba(60, 64, 67, 0.3), 0px 1px 3px 1px rgba(60, 64, 67, 0.15);\n",
              "      fill: #174EA6;\n",
              "    }\n",
              "\n",
              "    [theme=dark] .colab-df-convert {\n",
              "      background-color: #3B4455;\n",
              "      fill: #D2E3FC;\n",
              "    }\n",
              "\n",
              "    [theme=dark] .colab-df-convert:hover {\n",
              "      background-color: #434B5C;\n",
              "      box-shadow: 0px 1px 3px 1px rgba(0, 0, 0, 0.15);\n",
              "      filter: drop-shadow(0px 1px 2px rgba(0, 0, 0, 0.3));\n",
              "      fill: #FFFFFF;\n",
              "    }\n",
              "  </style>\n",
              "\n",
              "      <script>\n",
              "        const buttonEl =\n",
              "          document.querySelector('#df-a90b5f83-d698-49de-9c3e-5b7fecaf13f6 button.colab-df-convert');\n",
              "        buttonEl.style.display =\n",
              "          google.colab.kernel.accessAllowed ? 'block' : 'none';\n",
              "\n",
              "        async function convertToInteractive(key) {\n",
              "          const element = document.querySelector('#df-a90b5f83-d698-49de-9c3e-5b7fecaf13f6');\n",
              "          const dataTable =\n",
              "            await google.colab.kernel.invokeFunction('convertToInteractive',\n",
              "                                                     [key], {});\n",
              "          if (!dataTable) return;\n",
              "\n",
              "          const docLinkHtml = 'Like what you see? Visit the ' +\n",
              "            '<a target=\"_blank\" href=https://colab.research.google.com/notebooks/data_table.ipynb>data table notebook</a>'\n",
              "            + ' to learn more about interactive tables.';\n",
              "          element.innerHTML = '';\n",
              "          dataTable['output_type'] = 'display_data';\n",
              "          await google.colab.output.renderOutput(dataTable, element);\n",
              "          const docLink = document.createElement('div');\n",
              "          docLink.innerHTML = docLinkHtml;\n",
              "          element.appendChild(docLink);\n",
              "        }\n",
              "      </script>\n",
              "    </div>\n",
              "  </div>\n",
              "  "
            ]
          },
          "metadata": {},
          "execution_count": 129
        }
      ]
    },
    {
      "cell_type": "markdown",
      "metadata": {
        "id": "GCgYG2sCY4Fm"
      },
      "source": [
        "### CLEANING DATA\n",
        "\n",
        "**STEPS FOLLOWED FOR DATA CLEANING:**\n",
        "- convert 4s to 1s (target) \n",
        "- drop duplicates\n",
        "- lower case\n",
        "- remove atsign\n",
        "- remove urls \n",
        "- remove punctuations\n",
        "- remove numbers \n",
        "- remove emojis\n",
        "- remove stopwords\n",
        "- remove 1 letter words \n",
        "- lemmatization using spacy"
      ]
    },
    {
      "cell_type": "code",
      "execution_count": null,
      "metadata": {
        "colab": {
          "base_uri": "https://localhost:8080/"
        },
        "id": "kD5vY9JyY4Fm",
        "outputId": "b449f565-e750-4c7a-abde-c50f265051cb"
      },
      "outputs": [
        {
          "output_type": "stream",
          "name": "stderr",
          "text": [
            "<ipython-input-130-026f8658a76e>:3: SettingWithCopyWarning: \n",
            "A value is trying to be set on a copy of a slice from a DataFrame.\n",
            "Try using .loc[row_indexer,col_indexer] = value instead\n",
            "\n",
            "See the caveats in the documentation: https://pandas.pydata.org/pandas-docs/stable/user_guide/indexing.html#returning-a-view-versus-a-copy\n",
            "  data['target'] = data['target'].replace(4,1)\n"
          ]
        }
      ],
      "source": [
        "# converting 4s to 1s\n",
        "data = dataset[['text','target']]\n",
        "data['target'] = data['target'].replace(4,1)"
      ]
    },
    {
      "cell_type": "code",
      "execution_count": null,
      "metadata": {
        "id": "gulT19ceY4Fn"
      },
      "outputs": [],
      "source": [
        "# drop duplicates \n",
        "data = data.drop_duplicates(subset='text')"
      ]
    },
    {
      "cell_type": "code",
      "execution_count": null,
      "metadata": {
        "id": "DD_CvDLOY4Fn"
      },
      "outputs": [],
      "source": [
        "# lower case \n",
        "dataset=dataset.dropna(axis=1)\n",
        "def lower_case(text):\n",
        "    return text.lower()\n",
        "\n",
        "data['text'] = data['text'].apply(lambda text: lower_case(text))"
      ]
    },
    {
      "cell_type": "code",
      "execution_count": null,
      "metadata": {
        "id": "qwGuEheJY4Fn"
      },
      "outputs": [],
      "source": [
        "# remove atsign\n",
        "def remove_atsign(text):\n",
        "    return \" \".join([word for word in str(text).split() if '@' not in word])\n",
        "\n",
        "data['text'] = data['text'].apply(lambda text: remove_atsign(text))"
      ]
    },
    {
      "cell_type": "code",
      "execution_count": null,
      "metadata": {
        "id": "Wxa1XiRKY4Fn"
      },
      "outputs": [],
      "source": [
        "# remove urls\n",
        "def remove_url(text):\n",
        "    return re.sub('((www.[^s]+)|(https?://[^s]+))', ' ', text)\n",
        "\n",
        "data['text'] = data['text'].apply(lambda text: remove_url(text))"
      ]
    },
    {
      "cell_type": "code",
      "execution_count": null,
      "metadata": {
        "id": "_yPw8bfOY4Fn"
      },
      "outputs": [],
      "source": [
        "# remove punctuations \n",
        "def remove_punctuations(text):\n",
        "    return text.translate(str.maketrans('', '', string.punctuation))\n",
        "\n",
        "data['text'] = data['text'].apply(lambda text: remove_punctuations(text))"
      ]
    },
    {
      "cell_type": "code",
      "execution_count": null,
      "metadata": {
        "id": "lUBE6dMcY4Fo"
      },
      "outputs": [],
      "source": [
        "# remove numbers\n",
        "def remove_numbers(text):\n",
        "    return \" \".join([word for word in str(text).split() if not any(char.isdigit() for char in word)])\n",
        "\n",
        "data['text'] = data['text'].apply(lambda text: remove_numbers(text))"
      ]
    },
    {
      "cell_type": "code",
      "execution_count": null,
      "metadata": {
        "id": "fbiepVCqY4Fo"
      },
      "outputs": [],
      "source": [
        "# remove emojis\n",
        "def remove_emojis(text):\n",
        "    return clean(text, no_emoji=True)\n",
        "\n",
        "data['text'] = data['text'].apply(lambda text: remove_emojis(text))"
      ]
    },
    {
      "cell_type": "code",
      "execution_count": null,
      "metadata": {
        "id": "ZW6-fYPdY4Fo"
      },
      "outputs": [],
      "source": [
        "# remove stopwords\n",
        "STOPWORDS = set(gensim.parsing.preprocessing.STOPWORDS)\n",
        "\n",
        "def remove_stopwords(text):\n",
        "    return \" \".join([word for word in str(text).split() if word not in STOPWORDS])\n",
        "\n",
        "data['text'] = data['text'].apply(lambda text: remove_stopwords(text))"
      ]
    },
    {
      "cell_type": "markdown",
      "metadata": {
        "id": "S3BBw4N4Y4Fo"
      },
      "source": [
        "When we performed lemmatization for the first time, our code ran for over 40 minutes and still didn't give an output. To make the process more efficient we decided to perform [parallel processing on spacy](https://prrao87.github.io/blog/spacy/nlp/performance/2020/05/02/spacy-multiprocess.html#Load-spaCy-model) to improve the performance. "
      ]
    },
    {
      "cell_type": "code",
      "execution_count": null,
      "metadata": {
        "id": "5612aqKCY4Fp"
      },
      "outputs": [],
      "source": [
        "def lemmatize(doc):\n",
        "    return \" \".join([token.lemma_ for token in doc])\n",
        "\n",
        "def chunker(iterable, total_length, chunksize):\n",
        "    return (iterable[pos: pos + chunksize] for pos in range(0, total_length, chunksize))\n",
        "\n",
        "def flatten(list_of_lists):\n",
        "    \"Flatten a list of lists to a combined list\"\n",
        "    return [item for sublist in list_of_lists for item in sublist]\n",
        "\n",
        "def process_chunk(texts):\n",
        "    preproc_pipe = []\n",
        "    for doc in nlp.pipe(texts, batch_size=20):\n",
        "        preproc_pipe.append(lemmatize(doc))\n",
        "    return preproc_pipe\n",
        "\n",
        "def preprocess_parallel(texts, chunksize=100):\n",
        "    executor = Parallel(n_jobs=7, backend='multiprocessing', prefer=\"processes\")\n",
        "    do = delayed(process_chunk)\n",
        "    tasks = (do(chunk) for chunk in chunker(texts, len(data), chunksize=chunksize))\n",
        "    result = executor(tasks)\n",
        "    return flatten(result)\n",
        "\n",
        "data['text'] = preprocess_parallel(data['text'], chunksize=1000)"
      ]
    },
    {
      "cell_type": "code",
      "execution_count": null,
      "metadata": {
        "id": "2a7KdrbYY4Fp"
      },
      "outputs": [],
      "source": [
        "# remove 1 letter words \n",
        "def remove_1_letter(text):\n",
        "    text = text.split()\n",
        "    new_words = []\n",
        "    for t in text:\n",
        "        if len(t) > 1:\n",
        "            new_words.append(t)\n",
        "    return ' '.join(new_words)\n",
        "\n",
        "data['text'] = data['text'].apply(lambda text: remove_1_letter(text))"
      ]
    },
    {
      "cell_type": "markdown",
      "metadata": {
        "id": "GWCEq7G7Y4Fp"
      },
      "source": [
        "### FEATURE EXTRACTION\n",
        "After data has been cleaned we perform feature extraction using the TF-IDF algorithm (term frequency-inverse document frequency)"
      ]
    },
    {
      "cell_type": "code",
      "execution_count": null,
      "metadata": {
        "id": "LlUS8S7eY4Fp"
      },
      "outputs": [],
      "source": [
        "X_train, X_test, y_train, y_test = train_test_split(data['text'], data['target'], \n",
        "                                                  random_state=30, stratify=data['target'], test_size=0.5)\n",
        "\n",
        "vectorizer = TfidfVectorizer(ngram_range=(1,2), max_features=1000)\n",
        "X_train = vectorizer.fit_transform(X_train)\n",
        "X_test  = vectorizer.transform(X_test)"
      ]
    },
    {
      "cell_type": "code",
      "execution_count": null,
      "metadata": {
        "id": "LBvA8Qg1Y4Fp",
        "colab": {
          "base_uri": "https://localhost:8080/",
          "height": 508
        },
        "outputId": "11e3cbce-d81c-49ce-cc24-61cc9066fe2e"
      },
      "outputs": [
        {
          "output_type": "execute_result",
          "data": {
            "text/plain": [
              "Text(0.5, 1.0, 'Most Frequently Occuring Words - Top 30')"
            ]
          },
          "metadata": {},
          "execution_count": 142
        },
        {
          "output_type": "display_data",
          "data": {
            "text/plain": [
              "<Figure size 1080x504 with 1 Axes>"
            ],
            "image/png": "[encoded data removed]"
          },
          "metadata": {
            "needs_background": "light"
          }
        }
      ],
      "source": [
        "# most commonly occuring words \n",
        "import matplotlib.pyplot as plt\n",
        "sum_words = X_train.sum(axis=0)\n",
        "\n",
        "words_freq = [(word, sum_words[0, i]) for word, i in vectorizer.vocabulary_.items()]\n",
        "words_freq = sorted(words_freq, key = lambda x: x[1], reverse = True)\n",
        "\n",
        "frequency = pd.DataFrame(words_freq, columns=['word', 'freq'])\n",
        "\n",
        "frequency.head(30).plot(x='word', y='freq', kind='bar', figsize=(15, 7), color = 'blue')\n",
        "plt.title(\"Most Frequently Occuring Words - Top 30\")"
      ]
    },
    {
      "cell_type": "markdown",
      "metadata": {
        "id": "a1XW16CcY4Fq"
      },
      "source": [
        "### STORE DATASET"
      ]
    },
    {
      "cell_type": "code",
      "execution_count": null,
      "metadata": {
        "id": "HG1CQNKDY4Fq",
        "colab": {
          "base_uri": "https://localhost:8080/"
        },
        "outputId": "9afb0368-7f08-477c-94ee-8a515f9278ca"
      },
      "outputs": [
        {
          "output_type": "stream",
          "name": "stdout",
          "text": [
            "Stored 'X_train' (csr_matrix)\n",
            "Stored 'X_test' (csr_matrix)\n",
            "Stored 'y_train' (Series)\n",
            "Stored 'y_test' (Series)\n"
          ]
        }
      ],
      "source": [
        "%store X_train\n",
        "%store X_test\n",
        "%store y_train\n",
        "%store y_test"
      ]
    },
    {
      "cell_type": "code",
      "source": [
        "pip install modin[ray] "
      ],
      "metadata": {
        "id": "DhB4ajGlqRzJ",
        "colab": {
          "base_uri": "https://localhost:8080/"
        },
        "outputId": "5b70fbdc-7f21-42a9-de89-c0185a2736f6"
      },
      "execution_count": null,
      "outputs": [
        {
          "output_type": "stream",
          "name": "stdout",
          "text": [
            "Looking in indexes: https://pypi.org/simple, https://us-python.pkg.dev/colab-wheels/public/simple/\n",
            "Requirement already satisfied: modin[ray] in /usr/local/lib/python3.8/dist-packages (0.18.0)\n",
            "Requirement already satisfied: packaging in /usr/local/lib/python3.8/dist-packages (from modin[ray]) (21.3)\n",
            "Requirement already satisfied: pandas==1.5.2 in /usr/local/lib/python3.8/dist-packages (from modin[ray]) (1.5.2)\n",
            "Requirement already satisfied: fsspec in /usr/local/lib/python3.8/dist-packages (from modin[ray]) (2022.11.0)\n",
            "Requirement already satisfied: psutil in /usr/local/lib/python3.8/dist-packages (from modin[ray]) (5.9.4)\n",
            "Requirement already satisfied: numpy>=1.18.5 in /usr/local/lib/python3.8/dist-packages (from modin[ray]) (1.21.6)\n",
            "Requirement already satisfied: ray[default]>=1.13.0 in /usr/local/lib/python3.8/dist-packages (from modin[ray]) (2.2.0)\n",
            "Requirement already satisfied: pyarrow in /usr/local/lib/python3.8/dist-packages (from modin[ray]) (9.0.0)\n",
            "Requirement already satisfied: python-dateutil>=2.8.1 in /usr/local/lib/python3.8/dist-packages (from pandas==1.5.2->modin[ray]) (2.8.2)\n",
            "Requirement already satisfied: pytz>=2020.1 in /usr/local/lib/python3.8/dist-packages (from pandas==1.5.2->modin[ray]) (2022.7)\n",
            "Requirement already satisfied: frozenlist in /usr/local/lib/python3.8/dist-packages (from ray[default]>=1.13.0->modin[ray]) (1.3.3)\n",
            "Requirement already satisfied: protobuf!=3.19.5,>=3.15.3 in /usr/local/lib/python3.8/dist-packages (from ray[default]>=1.13.0->modin[ray]) (3.19.6)\n",
            "Requirement already satisfied: pyyaml in /usr/local/lib/python3.8/dist-packages (from ray[default]>=1.13.0->modin[ray]) (6.0)\n",
            "Requirement already satisfied: msgpack<2.0.0,>=1.0.0 in /usr/local/lib/python3.8/dist-packages (from ray[default]>=1.13.0->modin[ray]) (1.0.4)\n",
            "Requirement already satisfied: attrs in /usr/local/lib/python3.8/dist-packages (from ray[default]>=1.13.0->modin[ray]) (22.2.0)\n",
            "Requirement already satisfied: filelock in /usr/local/lib/python3.8/dist-packages (from ray[default]>=1.13.0->modin[ray]) (3.8.2)\n",
            "Requirement already satisfied: requests in /usr/local/lib/python3.8/dist-packages (from ray[default]>=1.13.0->modin[ray]) (2.25.1)\n",
            "Requirement already satisfied: virtualenv>=20.0.24 in /usr/local/lib/python3.8/dist-packages (from ray[default]>=1.13.0->modin[ray]) (20.17.1)\n",
            "Requirement already satisfied: aiosignal in /usr/local/lib/python3.8/dist-packages (from ray[default]>=1.13.0->modin[ray]) (1.3.1)\n",
            "Requirement already satisfied: grpcio>=1.32.0 in /usr/local/lib/python3.8/dist-packages (from ray[default]>=1.13.0->modin[ray]) (1.51.1)\n",
            "Requirement already satisfied: click>=7.0 in /usr/local/lib/python3.8/dist-packages (from ray[default]>=1.13.0->modin[ray]) (7.1.2)\n",
            "Requirement already satisfied: jsonschema in /usr/local/lib/python3.8/dist-packages (from ray[default]>=1.13.0->modin[ray]) (4.3.3)\n",
            "Requirement already satisfied: aiohttp-cors in /usr/local/lib/python3.8/dist-packages (from ray[default]>=1.13.0->modin[ray]) (0.7.0)\n",
            "Requirement already satisfied: aiohttp>=3.7 in /usr/local/lib/python3.8/dist-packages (from ray[default]>=1.13.0->modin[ray]) (3.8.3)\n",
            "Requirement already satisfied: smart-open in /usr/local/lib/python3.8/dist-packages (from ray[default]>=1.13.0->modin[ray]) (6.3.0)\n",
            "Requirement already satisfied: colorful in /usr/local/lib/python3.8/dist-packages (from ray[default]>=1.13.0->modin[ray]) (0.5.5)\n",
            "Requirement already satisfied: pydantic in /usr/local/lib/python3.8/dist-packages (from ray[default]>=1.13.0->modin[ray]) (1.10.2)\n",
            "Requirement already satisfied: gpustat>=1.0.0 in /usr/local/lib/python3.8/dist-packages (from ray[default]>=1.13.0->modin[ray]) (1.0.0)\n",
            "Requirement already satisfied: py-spy>=0.2.0 in /usr/local/lib/python3.8/dist-packages (from ray[default]>=1.13.0->modin[ray]) (0.3.14)\n",
            "Requirement already satisfied: prometheus-client<0.14.0,>=0.7.1 in /usr/local/lib/python3.8/dist-packages (from ray[default]>=1.13.0->modin[ray]) (0.13.1)\n",
            "Requirement already satisfied: opencensus in /usr/local/lib/python3.8/dist-packages (from ray[default]>=1.13.0->modin[ray]) (0.11.0)\n",
            "Requirement already satisfied: pyparsing!=3.0.5,>=2.0.2 in /usr/local/lib/python3.8/dist-packages (from packaging->modin[ray]) (3.0.9)\n",
            "Requirement already satisfied: yarl<2.0,>=1.0 in /usr/local/lib/python3.8/dist-packages (from aiohttp>=3.7->ray[default]>=1.13.0->modin[ray]) (1.8.2)\n",
            "Requirement already satisfied: multidict<7.0,>=4.5 in /usr/local/lib/python3.8/dist-packages (from aiohttp>=3.7->ray[default]>=1.13.0->modin[ray]) (6.0.3)\n",
            "Requirement already satisfied: charset-normalizer<3.0,>=2.0 in /usr/local/lib/python3.8/dist-packages (from aiohttp>=3.7->ray[default]>=1.13.0->modin[ray]) (2.1.1)\n",
            "Requirement already satisfied: async-timeout<5.0,>=4.0.0a3 in /usr/local/lib/python3.8/dist-packages (from aiohttp>=3.7->ray[default]>=1.13.0->modin[ray]) (4.0.2)\n",
            "Requirement already satisfied: nvidia-ml-py<=11.495.46,>=11.450.129 in /usr/local/lib/python3.8/dist-packages (from gpustat>=1.0.0->ray[default]>=1.13.0->modin[ray]) (11.495.46)\n",
            "Requirement already satisfied: blessed>=1.17.1 in /usr/local/lib/python3.8/dist-packages (from gpustat>=1.0.0->ray[default]>=1.13.0->modin[ray]) (1.19.1)\n",
            "Requirement already satisfied: six>=1.7 in /usr/local/lib/python3.8/dist-packages (from gpustat>=1.0.0->ray[default]>=1.13.0->modin[ray]) (1.15.0)\n",
            "Requirement already satisfied: platformdirs<3,>=2.4 in /usr/local/lib/python3.8/dist-packages (from virtualenv>=20.0.24->ray[default]>=1.13.0->modin[ray]) (2.6.0)\n",
            "Requirement already satisfied: distlib<1,>=0.3.6 in /usr/local/lib/python3.8/dist-packages (from virtualenv>=20.0.24->ray[default]>=1.13.0->modin[ray]) (0.3.6)\n",
            "Requirement already satisfied: importlib-resources>=1.4.0 in /usr/local/lib/python3.8/dist-packages (from jsonschema->ray[default]>=1.13.0->modin[ray]) (5.10.1)\n",
            "Requirement already satisfied: pyrsistent!=0.17.0,!=0.17.1,!=0.17.2,>=0.14.0 in /usr/local/lib/python3.8/dist-packages (from jsonschema->ray[default]>=1.13.0->modin[ray]) (0.19.2)\n",
            "Requirement already satisfied: opencensus-context>=0.1.3 in /usr/local/lib/python3.8/dist-packages (from opencensus->ray[default]>=1.13.0->modin[ray]) (0.1.3)\n",
            "Requirement already satisfied: google-api-core<3.0.0,>=1.0.0 in /usr/local/lib/python3.8/dist-packages (from opencensus->ray[default]>=1.13.0->modin[ray]) (2.11.0)\n",
            "Requirement already satisfied: typing-extensions>=4.1.0 in /usr/local/lib/python3.8/dist-packages (from pydantic->ray[default]>=1.13.0->modin[ray]) (4.4.0)\n",
            "Requirement already satisfied: chardet<5,>=3.0.2 in /usr/local/lib/python3.8/dist-packages (from requests->ray[default]>=1.13.0->modin[ray]) (4.0.0)\n",
            "Requirement already satisfied: urllib3<1.27,>=1.21.1 in /usr/local/lib/python3.8/dist-packages (from requests->ray[default]>=1.13.0->modin[ray]) (1.24.3)\n",
            "Requirement already satisfied: idna<3,>=2.5 in /usr/local/lib/python3.8/dist-packages (from requests->ray[default]>=1.13.0->modin[ray]) (2.10)\n",
            "Requirement already satisfied: certifi>=2017.4.17 in /usr/local/lib/python3.8/dist-packages (from requests->ray[default]>=1.13.0->modin[ray]) (2022.12.7)\n",
            "Requirement already satisfied: wcwidth>=0.1.4 in /usr/local/lib/python3.8/dist-packages (from blessed>=1.17.1->gpustat>=1.0.0->ray[default]>=1.13.0->modin[ray]) (0.2.5)\n",
            "Requirement already satisfied: google-auth<3.0dev,>=2.14.1 in /usr/local/lib/python3.8/dist-packages (from google-api-core<3.0.0,>=1.0.0->opencensus->ray[default]>=1.13.0->modin[ray]) (2.15.0)\n",
            "Requirement already satisfied: googleapis-common-protos<2.0dev,>=1.56.2 in /usr/local/lib/python3.8/dist-packages (from google-api-core<3.0.0,>=1.0.0->opencensus->ray[default]>=1.13.0->modin[ray]) (1.57.0)\n",
            "Requirement already satisfied: zipp>=3.1.0 in /usr/local/lib/python3.8/dist-packages (from importlib-resources>=1.4.0->jsonschema->ray[default]>=1.13.0->modin[ray]) (3.11.0)\n",
            "Requirement already satisfied: pyasn1-modules>=0.2.1 in /usr/local/lib/python3.8/dist-packages (from google-auth<3.0dev,>=2.14.1->google-api-core<3.0.0,>=1.0.0->opencensus->ray[default]>=1.13.0->modin[ray]) (0.2.8)\n",
            "Requirement already satisfied: rsa<5,>=3.1.4 in /usr/local/lib/python3.8/dist-packages (from google-auth<3.0dev,>=2.14.1->google-api-core<3.0.0,>=1.0.0->opencensus->ray[default]>=1.13.0->modin[ray]) (4.9)\n",
            "Requirement already satisfied: cachetools<6.0,>=2.0.0 in /usr/local/lib/python3.8/dist-packages (from google-auth<3.0dev,>=2.14.1->google-api-core<3.0.0,>=1.0.0->opencensus->ray[default]>=1.13.0->modin[ray]) (5.2.0)\n",
            "Requirement already satisfied: pyasn1<0.5.0,>=0.4.6 in /usr/local/lib/python3.8/dist-packages (from pyasn1-modules>=0.2.1->google-auth<3.0dev,>=2.14.1->google-api-core<3.0.0,>=1.0.0->opencensus->ray[default]>=1.13.0->modin[ray]) (0.4.8)\n"
          ]
        }
      ]
    },
    {
      "cell_type": "code",
      "source": [
        "import matplotlib.pyplot as plt\n",
        "import numpy as np\n",
        "\n",
        "# for parallelization\n",
        "from joblib import parallel_backend\n",
        "from ray.util.joblib import register_ray\n",
        "register_ray()\n",
        "\n",
        "# models \n",
        "from sklearn.svm import SVC\n",
        "from sklearn.naive_bayes import GaussianNB\n",
        "from sklearn.linear_model import LogisticRegression\n",
        "from sklearn.model_selection import train_test_split\n",
        "import tensorflow as tf\n",
        "from tensorflow import keras\n",
        "from xgboost import XGBClassifier\n",
        "# from keras.preprocessing.text import one_hot\n",
        "# from keras.preprocessing.sequence import pad_sequences\n",
        "# from keras.models import Sequential\n",
        "# from keras.layers.core import Activation, Dropout, Dense\n",
        "# from keras.layers import Flatten\n",
        "# from keras.layers import GlobalMaxPooling1D\n",
        "# from keras.layers.embeddings import Embedding\n",
        "# from sklearn.model_selection import train_test_split\n",
        "# from keras.preprocessing.text import Tokenizer\n",
        "\n",
        "# Make the notebook's output stable across runs\n",
        "np.random.seed(42)\n",
        "tf.random.set_seed(42)\n",
        "keras.backend.clear_session()\n",
        "\n",
        "# Set up inline plotting and figure/axis labels\n",
        "%matplotlib inline\n",
        "import matplotlib as mpl\n",
        "import matplotlib.pyplot as plt\n",
        "mpl.rc('axes', labelsize=14)\n",
        "mpl.rc('xtick', labelsize=12)\n",
        "mpl.rc('ytick', labelsize=12)\n",
        "\n",
        "def plot_image(image):\n",
        "    plt.imshow(image, cmap=\"gray\", interpolation=\"nearest\")\n",
        "    plt.axis(\"off\")\n",
        "\n",
        "def plot_color_image(image):\n",
        "    plt.imshow(image, interpolation=\"nearest\")\n",
        "    plt.axis(\"off\")\n",
        "    \n",
        "def plot_examples(data, n_rows=4, n_cols=10):\n",
        "    \"\"\"Plot a grid of images which are encoded as numpy arrays.\"\"\"\n",
        "    \n",
        "    # Size figure depending on the size of the grid\n",
        "    plt.figure(figsize=(n_cols * 1.2, n_rows * 1.2))\n",
        "    \n",
        "    for row in range(n_rows):\n",
        "        for col in range(n_cols):\n",
        "            \n",
        "            # Get next index of image\n",
        "            index = n_cols * row + col\n",
        "            \n",
        "            # Plot the image at appropriate place in grid\n",
        "            plt.subplot(n_rows, n_cols, index + 1)\n",
        "            plt.imshow(data[index], cmap=\"binary\")\n",
        "            plt.axis('off')\n",
        "            \n",
        "    plt.show()\n",
        "\n",
        "# evaluation\n",
        "from sklearn import metrics\n",
        "\n",
        "%store -r X_train\n",
        "%store -r X_test\n",
        "%store -r y_train\n",
        "%store -r y_test\n",
        "\n",
        "X_train = X_train.toarray()\n",
        "X_test  = X_test.toarray()\n",
        "y_train = np.array(y_train)\n",
        "y_test = np.array(y_test)\n",
        "\n",
        "# Reducing Number of Datapoints for better model training times\n",
        "X_train = np.resize(X_train, (100000, 1000))\n",
        "y_train = np.resize(y_train, (100000,))\n",
        "X_test  = np.resize(X_test, (42000, 1000))\n",
        "y_test  = np.resize(y_test, (42000,))\n",
        "\n",
        "# Note: Still stratified "
      ],
      "metadata": {
        "id": "2pdHBB1qqS_W"
      },
      "execution_count": null,
      "outputs": []
    },
    {
      "cell_type": "code",
      "source": [
        "def evaluate(y_test, y_predict, model):\n",
        "    print(\"\\nMODEL: \" + str(model))\n",
        "    print('Accuracy: ', metrics.accuracy_score(y_test, y_predict))\n",
        "    print(\"Precision: \", metrics.precision_score(y_test, y_predict))\n",
        "    print(\"Recall: \", metrics.recall_score(y_test, y_predict))\n",
        "    print(\"F1 Score: \", metrics.f1_score(y_test, y_predict))\n",
        "\n",
        "    fpr, tpr, _ = metrics.roc_curve(y_test,  y_predict)\n",
        "    auc = metrics.roc_auc_score(y_test, y_predict)\n",
        "\n",
        "    # Plot ROC for this label\n",
        "    plt.plot(fpr,tpr,label=\"AUC = \"+ \"{:.2f}\".format(auc))\n",
        "    \n",
        "    plt.ylabel('True Positive Rate')\n",
        "    plt.xlabel('False Positive Rate')\n",
        "    plt.legend(loc=4)\n",
        "    plt.show()"
      ],
      "metadata": {
        "id": "i1-Nt247yoow"
      },
      "execution_count": null,
      "outputs": []
    },
    {
      "cell_type": "code",
      "source": [
        "X_train_valid, X_test_valid, y_train_valid, y_test_valid = train_test_split(X_train, y_train, train_size=0.2)"
      ],
      "metadata": {
        "id": "EtCIRZuVyyIz"
      },
      "execution_count": null,
      "outputs": []
    },
    {
      "cell_type": "code",
      "source": [
        "# Implement a simple, single layer LSTM model\n",
        "model = keras.models.Sequential([\n",
        "    \n",
        "    # Embedding layer maps words to dense vectors\n",
        "    keras.layers.Embedding(1000, 64),\n",
        "    \n",
        "    # LSTM layer with 64 units\n",
        "    keras.layers.LSTM(64),\n",
        "    \n",
        "    # Fully connceted layer performs classification on the LSTM output\n",
        "    keras.layers.Dense(1, activation=\"sigmoid\")\n",
        "])"
      ],
      "metadata": {
        "id": "kUtLykNzy0fE"
      },
      "execution_count": null,
      "outputs": []
    },
    {
      "cell_type": "code",
      "source": [
        "# Compile the model, specifying optimsier, loss and metrics\n",
        "model.compile(\"adam\", \"binary_crossentropy\", metrics=[\"accuracy\"])"
      ],
      "metadata": {
        "id": "bw1BVfp1y7MN"
      },
      "execution_count": null,
      "outputs": []
    },
    {
      "cell_type": "code",
      "source": [
        "with parallel_backend(\"ray\"):\n",
        "    model.fit(X_train_valid, y_train_valid, batch_size=10, epochs=3, validation_data=(X_test_valid, y_test_valid))"
      ],
      "metadata": {
        "id": "Hy9_R_8DzAtj",
        "colab": {
          "base_uri": "https://localhost:8080/"
        },
        "outputId": "4883648d-7d3d-42e8-cca2-e89acff4e465"
      },
      "execution_count": null,
      "outputs": [
        {
          "output_type": "stream",
          "name": "stdout",
          "text": [
            "Epoch 1/3\n",
            "2000/2000 [==============================] - 1239s 618ms/step - loss: 0.0041 - accuracy: 0.9995 - val_loss: 9.2680e-06 - val_accuracy: 1.0000\n",
            "Epoch 2/3\n",
            "2000/2000 [==============================] - 1226s 613ms/step - loss: 4.8438e-06 - accuracy: 1.0000 - val_loss: 2.3514e-06 - val_accuracy: 1.0000\n",
            "Epoch 3/3\n",
            "2000/2000 [==============================] - 1223s 611ms/step - loss: 1.4105e-06 - accuracy: 1.0000 - val_loss: 7.8128e-07 - val_accuracy: 1.0000\n"
          ]
        }
      ]
    },
    {
      "cell_type": "code",
      "source": [
        "model.summary()"
      ],
      "metadata": {
        "id": "RDpbcJd5ff7o",
        "colab": {
          "base_uri": "https://localhost:8080/"
        },
        "outputId": "3828a0e2-6fc4-4fbd-84fa-685050dd520e"
      },
      "execution_count": null,
      "outputs": [
        {
          "output_type": "stream",
          "name": "stdout",
          "text": [
            "Model: \"sequential\"\n",
            "_________________________________________________________________\n",
            " Layer (type)                Output Shape              Param #   \n",
            "=================================================================\n",
            " embedding (Embedding)       (None, None, 64)          64000     \n",
            "                                                                 \n",
            " lstm (LSTM)                 (None, 64)                33024     \n",
            "                                                                 \n",
            " dense (Dense)               (None, 1)                 65        \n",
            "                                                                 \n",
            "=================================================================\n",
            "Total params: 97,089\n",
            "Trainable params: 97,089\n",
            "Non-trainable params: 0\n",
            "_________________________________________________________________\n"
          ]
        }
      ]
    },
    {
      "cell_type": "code",
      "source": [
        "lr = LogisticRegression()\n",
        "\n",
        "with parallel_backend(\"ray\"):\n",
        "    lr.fit(X_train, y_train)\n",
        "\n",
        "y_predict = lr.predict(X_test)\n",
        "evaluate(y_test, y_predict, 'Logistic Regression')"
      ],
      "metadata": {
        "id": "LlWaQbQwfhJg"
      },
      "execution_count": null,
      "outputs": []
    },
    {
      "cell_type": "code",
      "source": [
        "svm = SVC()\n",
        "\n",
        "with parallel_backend(\"ray\"):\n",
        "    svm.fit( X_train, y_train)\n",
        "\n",
        "y_predict = svm.predict(X_test,y_test)\n",
        "evaluate(y_test, y_predict, 'SVM')"
      ],
      "metadata": {
        "id": "BK9JVfPMfosy"
      },
      "execution_count": null,
      "outputs": []
    }
  ],
  "metadata": {
    "interpreter": {
      "hash": "925b4fc7bf60ec077d6844c75ccfbe79f4cc1048c4f3704f918b5a13e584ff1f"
    },
    "kernelspec": {
      "display_name": "Python 3 (ipykernel)",
      "language": "python",
      "name": "python3"
    },
    "language_info": {
      "codemirror_mode": {
        "name": "ipython",
        "version": 3
      },
      "file_extension": ".py",
      "mimetype": "text/x-python",
      "name": "python",
      "nbconvert_exporter": "python",
      "pygments_lexer": "ipython3",
      "version": "3.9.13"
    },
    "colab": {
      "provenance": []
    }
  },
  "nbformat": 4,
  "nbformat_minor": 0
}